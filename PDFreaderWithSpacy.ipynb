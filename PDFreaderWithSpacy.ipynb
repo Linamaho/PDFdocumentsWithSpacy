{
  "nbformat": 4,
  "nbformat_minor": 0,
  "metadata": {
    "colab": {
      "provenance": [],
      "authorship_tag": "ABX9TyNLsgaBTb3StmvQScXkqDOC",
      "include_colab_link": true
    },
    "kernelspec": {
      "name": "python3",
      "display_name": "Python 3"
    },
    "language_info": {
      "name": "python"
    }
  },
  "cells": [
    {
      "cell_type": "markdown",
      "metadata": {
        "id": "view-in-github",
        "colab_type": "text"
      },
      "source": [
        "<a href=\"https://colab.research.google.com/github/Linamaho/PDFdocumentsWithSpacy/blob/main/PDFreaderWithSpacy.ipynb\" target=\"_parent\"><img src=\"https://colab.research.google.com/assets/colab-badge.svg\" alt=\"Open In Colab\"/></a>"
      ]
    },
    {
      "cell_type": "markdown",
      "source": [
        "# **How to install the Spacy PDF reader**\n",
        "\n",
        "If you are running the SpacyPDFreader on Google Colab, you will need to manually install the SpacyPDFreader package. For that, just run the following pip install command line."
      ],
      "metadata": {
        "id": "rEqVkLzbGbNW"
      }
    },
    {
      "cell_type": "code",
      "source": [
        "#If you need to install the package then remove the # from the following line and run the cell\n",
        "#pip install 'spacypdfreader[pytesseract]'"
      ],
      "metadata": {
        "id": "btKJTwSGF4D6"
      },
      "execution_count": null,
      "outputs": []
    },
    {
      "cell_type": "markdown",
      "source": [
        "# **Import spacy and load the trained pipeline**\n"
      ],
      "metadata": {
        "id": "nUUVUbRfG-Z7"
      }
    },
    {
      "cell_type": "code",
      "execution_count": 4,
      "metadata": {
        "id": "uUnsDI9e8D0V"
      },
      "outputs": [],
      "source": [
        "import spacy\n",
        "from spacypdfreader.spacypdfreader import pdf_reader\n",
        "nlp = spacy.load('en_core_web_sm')"
      ]
    },
    {
      "cell_type": "markdown",
      "source": [
        "Download the test PDF document\n",
        "[https://github.com/SamEdwardes/spacypdfreader/tree/main/tests/data](https://)"
      ],
      "metadata": {
        "id": "VhP38F39HFDy"
      }
    },
    {
      "cell_type": "markdown",
      "source": [
        "Apply the pdf reader to the PDF document and see the magic behind it"
      ],
      "metadata": {
        "id": "ffyIY3o6HTrW"
      }
    },
    {
      "cell_type": "code",
      "source": [
        "doc = pdf_reader('test_pdf_01.pdf', nlp)"
      ],
      "metadata": {
        "id": "-79swnHq8ONW"
      },
      "execution_count": 6,
      "outputs": []
    },
    {
      "cell_type": "markdown",
      "source": [
        "Now our PDF is a document from where we can easily extract information. For example, let find out what is the file name, the document extension (page_range), it’s first and last page."
      ],
      "metadata": {
        "id": "PQqM7M-QHdAT"
      }
    },
    {
      "cell_type": "markdown",
      "source": [
        "# **Get page meta data about the PDF document**"
      ],
      "metadata": {
        "id": "YPLc0lEBHfou"
      }
    },
    {
      "cell_type": "code",
      "source": [
        "# Get the page number of any token.\n",
        "print(doc[0]._.page_number)  # 1\n",
        "print(doc[-1]._.page_number) # 4"
      ],
      "metadata": {
        "colab": {
          "base_uri": "https://localhost:8080/"
        },
        "id": "ozzWQmLqFv3g",
        "outputId": "a1f4ad3d-2b1d-49f1-d0ae-802d12438eb8"
      },
      "execution_count": 7,
      "outputs": [
        {
          "output_type": "stream",
          "name": "stdout",
          "text": [
            "1\n",
            "4\n"
          ]
        }
      ]
    },
    {
      "cell_type": "markdown",
      "source": [
        "# **Page number for the first and last word in the document**\n",
        "\n",
        "Lets find out in which page the first word is located, which in our case is the fist page (even if this sounds obvious, actually I think it makes sense. The first page would be empty so the first word could be on the second o even third page of the document)\n",
        "\n",
        "Also, lets see in which page the last word of the document is located. To do it, we use the doc[-1]."
      ],
      "metadata": {
        "id": "3B5quzamHlbJ"
      }
    },
    {
      "cell_type": "code",
      "source": [
        "# Get page meta data about the PDF document.\n",
        "print(doc._.pdf_file_name)   # 'tests/data/test_pdf_01.pdf'\n",
        "print(doc._.page_range)      # (1, 4)\n",
        "print(doc._.first_page)      # 1\n",
        "print(doc._.last_page)       # 4"
      ],
      "metadata": {
        "colab": {
          "base_uri": "https://localhost:8080/"
        },
        "id": "aFamwZllFxl4",
        "outputId": "a0c01f59-16d4-405a-bce9-b05edb0d71b9"
      },
      "execution_count": 8,
      "outputs": [
        {
          "output_type": "stream",
          "name": "stdout",
          "text": [
            "test_pdf_01.pdf\n",
            "(1, 4)\n",
            "1\n",
            "4\n"
          ]
        }
      ]
    },
    {
      "cell_type": "markdown",
      "source": [
        "# **Get all the text from a specific PDF page**\n",
        "\n",
        "Now lest print some of the content of the document. Lets print page number 4 taking advantage that the text in that page is not too long."
      ],
      "metadata": {
        "id": "2B-7RBEDH3kv"
      }
    },
    {
      "cell_type": "code",
      "source": [
        "# Get all of the text from a specific PDF page.\n",
        "print(doc._.page(4))         # 'able to display the destination page (unless...'"
      ],
      "metadata": {
        "colab": {
          "base_uri": "https://localhost:8080/"
        },
        "id": "_OlS4n-FFzFK",
        "outputId": "140faf95-5936-45de-8611-d4597793b783"
      },
      "execution_count": 9,
      "outputs": [
        {
          "output_type": "stream",
          "name": "stdout",
          "text": [
            "able to display the destination page (unless the optional PostScript Document Structuring\n",
            "Conventions have been carefully compiled and included).\n",
            "PDF 1.6 supports interactive 3D documents embedded in a PDF file: 3D drawings can be\n",
            "embedded using U3D or PRC and various other data formats.[15][16][17]\n"
          ]
        }
      ]
    },
    {
      "cell_type": "markdown",
      "source": [
        "What else can be done?\n",
        "\n",
        "From here you can basically apply Spacy and get details and insights from any PDF document.\n",
        "Want to know the most common words? Verbs or Nouns? Or maybe divide the document in sentences? Match some specific word? Get the tone of the document? Do some sentiment analysis?\n",
        "The world is your oyster to play ;)"
      ],
      "metadata": {
        "id": "xcBujfe-IGFP"
      }
    },
    {
      "cell_type": "markdown",
      "source": [],
      "metadata": {
        "id": "w2jH-borIH9t"
      }
    }
  ]
}